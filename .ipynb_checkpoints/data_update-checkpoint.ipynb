{
 "cells": [
  {
   "cell_type": "code",
   "execution_count": 3,
   "id": "d9fb231d",
   "metadata": {},
   "outputs": [],
   "source": [
    "# Import packages\n",
    "import yfinance as yf\n",
    "import pandas as pd\n",
    "import glob"
   ]
  },
  {
   "cell_type": "code",
   "execution_count": 7,
   "id": "ddc58ace",
   "metadata": {},
   "outputs": [],
   "source": [
    "# How many days to update (up to 7 days)\n",
    "update = '7d'"
   ]
  },
  {
   "cell_type": "code",
   "execution_count": 8,
   "id": "2314238a",
   "metadata": {},
   "outputs": [],
   "source": [
    "# Get list of stonks from the local database\n",
    "files = glob.glob('data/*.csv')\n",
    "tickers = [file[5:-4] for file in files]"
   ]
  },
  {
   "cell_type": "code",
   "execution_count": null,
   "id": "0e2f360b",
   "metadata": {
    "scrolled": true
   },
   "outputs": [
    {
     "name": "stdout",
     "output_type": "stream",
     "text": [
      "[*********************100%***********************]  1 of 1 completed\n",
      "[*********************100%***********************]  1 of 1 completed\n",
      "[*********************100%***********************]  1 of 1 completed\n",
      "[*********************100%***********************]  1 of 1 completed\n",
      "[*********************100%***********************]  1 of 1 completed\n",
      "[*********************100%***********************]  1 of 1 completed\n",
      "[*********************100%***********************]  1 of 1 completed\n",
      "[*********************100%***********************]  1 of 1 completed\n",
      "[*********************100%***********************]  1 of 1 completed\n",
      "[*********************100%***********************]  1 of 1 completed\n",
      "[*********************100%***********************]  1 of 1 completed\n",
      "[*********************100%***********************]  1 of 1 completed\n",
      "[*********************100%***********************]  1 of 1 completed\n",
      "[*********************100%***********************]  1 of 1 completed\n",
      "[*********************100%***********************]  1 of 1 completed\n",
      "[*********************100%***********************]  1 of 1 completed\n",
      "[*********************100%***********************]  1 of 1 completed\n",
      "[*********************100%***********************]  1 of 1 completed\n",
      "[*********************100%***********************]  1 of 1 completed\n",
      "[*********************100%***********************]  1 of 1 completed\n",
      "[*********************100%***********************]  1 of 1 completed\n",
      "[*********************100%***********************]  1 of 1 completed\n",
      "[*********************100%***********************]  1 of 1 completed\n",
      "[*********************100%***********************]  1 of 1 completed\n",
      "[*********************100%***********************]  1 of 1 completed\n",
      "[*********************100%***********************]  1 of 1 completed\n",
      "[*********************100%***********************]  1 of 1 completed\n"
     ]
    }
   ],
   "source": [
    "# Update stonks database with new data\n",
    "for ticker in tickers:\n",
    "    new_data = yf.download(tickers=ticker, period=update, interval='1m')\n",
    "    old_data = pd.read_csv(f'data/{ticker}.csv', index_col='Datetime')\n",
    "    old_data.index = pd.to_datetime(old_data.index)\n",
    "    all_data = pd.concat([old_data, new_data]).drop_duplicates()\n",
    "\n",
    "    all_data.iloc[:-1].to_csv(f'data/{ticker}.csv')"
   ]
  },
  {
   "cell_type": "code",
   "execution_count": null,
   "id": "29814065",
   "metadata": {},
   "outputs": [],
   "source": []
  }
 ],
 "metadata": {
  "kernelspec": {
   "display_name": "Python 3 (ipykernel)",
   "language": "python",
   "name": "python3"
  },
  "language_info": {
   "codemirror_mode": {
    "name": "ipython",
    "version": 3
   },
   "file_extension": ".py",
   "mimetype": "text/x-python",
   "name": "python",
   "nbconvert_exporter": "python",
   "pygments_lexer": "ipython3",
   "version": "3.9.7"
  }
 },
 "nbformat": 4,
 "nbformat_minor": 5
}
